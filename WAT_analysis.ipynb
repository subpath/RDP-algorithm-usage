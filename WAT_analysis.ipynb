{
 "cells": [
  {
   "cell_type": "markdown",
   "metadata": {},
   "source": [
    "#### Example of analysis of data obtained from experiment of Wax Appearance Temperature determination. \n",
    "Log file contains experimental data. During the experiment, the laser was passed through an oil sample with an isobaric temperature decrease. \n",
    "The inflection point indicates the formation of paraffin crystals.\n",
    "\n",
    "##### Folowing steps were taken:\n",
    "- Reading data from log file\n",
    "- Data visualisation\n",
    "- Finding inflection point\n",
    "- Fitting data to the trend lines\n",
    "- Calculating cross-point of trend lines\n",
    "\n",
    "##### [Ramer-Douglas-Peucker algorithm](https://pypi.python.org/pypi/rdp/)  was used to find inflection point "
   ]
  },
  {
   "cell_type": "code",
   "execution_count": 1,
   "metadata": {
    "collapsed": true
   },
   "outputs": [],
   "source": [
    "%matplotlib inline\n",
    "import pandas as pd\n",
    "import matplotlib.pyplot as plt\n",
    "import numpy as np\n",
    "df = pd.read_csv('WAT_log_file.csv')\n"
   ]
  },
  {
   "cell_type": "code",
   "execution_count": 2,
   "metadata": {
    "scrolled": true
   },
   "outputs": [
    {
     "data": {
      "text/html": [
       "<div>\n",
       "<style>\n",
       "    .dataframe thead tr:only-child th {\n",
       "        text-align: right;\n",
       "    }\n",
       "\n",
       "    .dataframe thead th {\n",
       "        text-align: left;\n",
       "    }\n",
       "\n",
       "    .dataframe tbody tr th {\n",
       "        vertical-align: top;\n",
       "    }\n",
       "</style>\n",
       "<table border=\"1\" class=\"dataframe\">\n",
       "  <thead>\n",
       "    <tr style=\"text-align: right;\">\n",
       "      <th></th>\n",
       "      <th>Time(min)</th>\n",
       "      <th>Power(W)</th>\n",
       "      <th>Temperature</th>\n",
       "      <th>Pressure</th>\n",
       "      <th>Volume</th>\n",
       "      <th>Concentration(%)</th>\n",
       "      <th>Cyl(1)</th>\n",
       "      <th>Cyl(2)</th>\n",
       "      <th>Bath</th>\n",
       "      <th>Comments</th>\n",
       "    </tr>\n",
       "  </thead>\n",
       "  <tbody>\n",
       "    <tr>\n",
       "      <th>0</th>\n",
       "      <td>0.10</td>\n",
       "      <td>0.000241</td>\n",
       "      <td>88.3</td>\n",
       "      <td>4177</td>\n",
       "      <td>0.000</td>\n",
       "      <td>NaN</td>\n",
       "      <td>-32768</td>\n",
       "      <td>-32768</td>\n",
       "      <td>0</td>\n",
       "      <td>NaN</td>\n",
       "    </tr>\n",
       "    <tr>\n",
       "      <th>1</th>\n",
       "      <td>0.20</td>\n",
       "      <td>0.000241</td>\n",
       "      <td>88.4</td>\n",
       "      <td>4177</td>\n",
       "      <td>-0.001</td>\n",
       "      <td>#NAME?</td>\n",
       "      <td>-32768</td>\n",
       "      <td>-32768</td>\n",
       "      <td>0</td>\n",
       "      <td>NaN</td>\n",
       "    </tr>\n",
       "    <tr>\n",
       "      <th>2</th>\n",
       "      <td>0.30</td>\n",
       "      <td>0.000241</td>\n",
       "      <td>88.4</td>\n",
       "      <td>4177</td>\n",
       "      <td>-0.003</td>\n",
       "      <td>#NAME?</td>\n",
       "      <td>-32768</td>\n",
       "      <td>-32768</td>\n",
       "      <td>0</td>\n",
       "      <td>NaN</td>\n",
       "    </tr>\n",
       "    <tr>\n",
       "      <th>3</th>\n",
       "      <td>0.40</td>\n",
       "      <td>0.000241</td>\n",
       "      <td>88.4</td>\n",
       "      <td>4177</td>\n",
       "      <td>-0.003</td>\n",
       "      <td>#NAME?</td>\n",
       "      <td>-32768</td>\n",
       "      <td>-32768</td>\n",
       "      <td>0</td>\n",
       "      <td>NaN</td>\n",
       "    </tr>\n",
       "    <tr>\n",
       "      <th>4</th>\n",
       "      <td>0.51</td>\n",
       "      <td>0.000241</td>\n",
       "      <td>88.4</td>\n",
       "      <td>4177</td>\n",
       "      <td>-0.003</td>\n",
       "      <td>#NAME?</td>\n",
       "      <td>-32768</td>\n",
       "      <td>-32768</td>\n",
       "      <td>0</td>\n",
       "      <td>NaN</td>\n",
       "    </tr>\n",
       "  </tbody>\n",
       "</table>\n",
       "</div>"
      ],
      "text/plain": [
       "   Time(min)  Power(W)  Temperature  Pressure  Volume Concentration(%)  \\\n",
       "0       0.10  0.000241         88.3      4177   0.000              NaN   \n",
       "1       0.20  0.000241         88.4      4177  -0.001           #NAME?   \n",
       "2       0.30  0.000241         88.4      4177  -0.003           #NAME?   \n",
       "3       0.40  0.000241         88.4      4177  -0.003           #NAME?   \n",
       "4       0.51  0.000241         88.4      4177  -0.003           #NAME?   \n",
       "\n",
       "   Cyl(1)  Cyl(2)  Bath  Comments  \n",
       "0  -32768  -32768     0       NaN  \n",
       "1  -32768  -32768     0       NaN  \n",
       "2  -32768  -32768     0       NaN  \n",
       "3  -32768  -32768     0       NaN  \n",
       "4  -32768  -32768     0       NaN  "
      ]
     },
     "execution_count": 2,
     "metadata": {},
     "output_type": "execute_result"
    }
   ],
   "source": [
    "#1. Look at the data\n",
    "# relevant columns: Temperature, Power(W)\n",
    "df.head()"
   ]
  },
  {
   "cell_type": "code",
   "execution_count": 3,
   "metadata": {},
   "outputs": [
    {
     "data": {
      "text/html": [
       "<div>\n",
       "<style>\n",
       "    .dataframe thead tr:only-child th {\n",
       "        text-align: right;\n",
       "    }\n",
       "\n",
       "    .dataframe thead th {\n",
       "        text-align: left;\n",
       "    }\n",
       "\n",
       "    .dataframe tbody tr th {\n",
       "        vertical-align: top;\n",
       "    }\n",
       "</style>\n",
       "<table border=\"1\" class=\"dataframe\">\n",
       "  <thead>\n",
       "    <tr style=\"text-align: right;\">\n",
       "      <th></th>\n",
       "      <th>Time(min)</th>\n",
       "      <th>Power(W)</th>\n",
       "      <th>Temperature</th>\n",
       "      <th>Pressure</th>\n",
       "      <th>Volume</th>\n",
       "      <th>Cyl(1)</th>\n",
       "      <th>Cyl(2)</th>\n",
       "      <th>Bath</th>\n",
       "      <th>Comments</th>\n",
       "    </tr>\n",
       "  </thead>\n",
       "  <tbody>\n",
       "    <tr>\n",
       "      <th>count</th>\n",
       "      <td>10542.000000</td>\n",
       "      <td>1.054200e+04</td>\n",
       "      <td>10542.000000</td>\n",
       "      <td>10542.000000</td>\n",
       "      <td>10542.000000</td>\n",
       "      <td>10542.0</td>\n",
       "      <td>10542.0</td>\n",
       "      <td>10542.0</td>\n",
       "      <td>0.0</td>\n",
       "    </tr>\n",
       "    <tr>\n",
       "      <th>mean</th>\n",
       "      <td>531.920597</td>\n",
       "      <td>2.159878e-04</td>\n",
       "      <td>48.650275</td>\n",
       "      <td>4177.305635</td>\n",
       "      <td>8.057862</td>\n",
       "      <td>-32768.0</td>\n",
       "      <td>-32768.0</td>\n",
       "      <td>0.0</td>\n",
       "      <td>NaN</td>\n",
       "    </tr>\n",
       "    <tr>\n",
       "      <th>std</th>\n",
       "      <td>306.696100</td>\n",
       "      <td>8.722547e-05</td>\n",
       "      <td>25.279945</td>\n",
       "      <td>0.839408</td>\n",
       "      <td>5.309835</td>\n",
       "      <td>0.0</td>\n",
       "      <td>0.0</td>\n",
       "      <td>0.0</td>\n",
       "      <td>NaN</td>\n",
       "    </tr>\n",
       "    <tr>\n",
       "      <th>min</th>\n",
       "      <td>0.100000</td>\n",
       "      <td>1.220000e-08</td>\n",
       "      <td>8.400000</td>\n",
       "      <td>4174.000000</td>\n",
       "      <td>-0.009000</td>\n",
       "      <td>-32768.0</td>\n",
       "      <td>-32768.0</td>\n",
       "      <td>0.0</td>\n",
       "      <td>NaN</td>\n",
       "    </tr>\n",
       "    <tr>\n",
       "      <th>25%</th>\n",
       "      <td>266.705000</td>\n",
       "      <td>2.440000e-04</td>\n",
       "      <td>26.100000</td>\n",
       "      <td>4177.000000</td>\n",
       "      <td>3.198750</td>\n",
       "      <td>-32768.0</td>\n",
       "      <td>-32768.0</td>\n",
       "      <td>0.0</td>\n",
       "      <td>NaN</td>\n",
       "    </tr>\n",
       "    <tr>\n",
       "      <th>50%</th>\n",
       "      <td>532.040000</td>\n",
       "      <td>2.510000e-04</td>\n",
       "      <td>48.500000</td>\n",
       "      <td>4177.000000</td>\n",
       "      <td>7.916000</td>\n",
       "      <td>-32768.0</td>\n",
       "      <td>-32768.0</td>\n",
       "      <td>0.0</td>\n",
       "      <td>NaN</td>\n",
       "    </tr>\n",
       "    <tr>\n",
       "      <th>75%</th>\n",
       "      <td>797.565000</td>\n",
       "      <td>2.560000e-04</td>\n",
       "      <td>72.000000</td>\n",
       "      <td>4178.000000</td>\n",
       "      <td>12.706000</td>\n",
       "      <td>-32768.0</td>\n",
       "      <td>-32768.0</td>\n",
       "      <td>0.0</td>\n",
       "      <td>NaN</td>\n",
       "    </tr>\n",
       "    <tr>\n",
       "      <th>max</th>\n",
       "      <td>1062.540000</td>\n",
       "      <td>2.630000e-04</td>\n",
       "      <td>88.400000</td>\n",
       "      <td>4180.000000</td>\n",
       "      <td>16.871000</td>\n",
       "      <td>-32768.0</td>\n",
       "      <td>-32768.0</td>\n",
       "      <td>0.0</td>\n",
       "      <td>NaN</td>\n",
       "    </tr>\n",
       "  </tbody>\n",
       "</table>\n",
       "</div>"
      ],
      "text/plain": [
       "          Time(min)      Power(W)   Temperature      Pressure        Volume  \\\n",
       "count  10542.000000  1.054200e+04  10542.000000  10542.000000  10542.000000   \n",
       "mean     531.920597  2.159878e-04     48.650275   4177.305635      8.057862   \n",
       "std      306.696100  8.722547e-05     25.279945      0.839408      5.309835   \n",
       "min        0.100000  1.220000e-08      8.400000   4174.000000     -0.009000   \n",
       "25%      266.705000  2.440000e-04     26.100000   4177.000000      3.198750   \n",
       "50%      532.040000  2.510000e-04     48.500000   4177.000000      7.916000   \n",
       "75%      797.565000  2.560000e-04     72.000000   4178.000000     12.706000   \n",
       "max     1062.540000  2.630000e-04     88.400000   4180.000000     16.871000   \n",
       "\n",
       "        Cyl(1)   Cyl(2)     Bath  Comments  \n",
       "count  10542.0  10542.0  10542.0       0.0  \n",
       "mean  -32768.0 -32768.0      0.0       NaN  \n",
       "std        0.0      0.0      0.0       NaN  \n",
       "min   -32768.0 -32768.0      0.0       NaN  \n",
       "25%   -32768.0 -32768.0      0.0       NaN  \n",
       "50%   -32768.0 -32768.0      0.0       NaN  \n",
       "75%   -32768.0 -32768.0      0.0       NaN  \n",
       "max   -32768.0 -32768.0      0.0       NaN  "
      ]
     },
     "execution_count": 3,
     "metadata": {},
     "output_type": "execute_result"
    }
   ],
   "source": [
    "df.describe()"
   ]
  },
  {
   "cell_type": "code",
   "execution_count": 4,
   "metadata": {},
   "outputs": [
    {
     "data": {
      "text/plain": [
       "(0, 0.0003)"
      ]
     },
     "execution_count": 4,
     "metadata": {},
     "output_type": "execute_result"
    },
    {
     "data": {
      "image/png": "[encoded data removed]",
      "text/plain": [
       "<matplotlib.figure.Figure at 0x6e07770>"
      ]
     },
     "metadata": {},
     "output_type": "display_data"
    }
   ],
   "source": [
    "#2. Plot data\n",
    "plt.scatter(df['Temperature'], df['Power(W)'])\n",
    "plt.xlabel('Tempature, degC')\n",
    "plt.ylabel('Power (W)')\n",
    "plt.ylim(0, 0.0003)\n",
    "#y limit - some arbitrary number\n",
    "\n",
    "#Inflection point somewhere in area 20 degC indicates Wax Appearance Temperature"
   ]
  },
  {
   "cell_type": "code",
   "execution_count": 5,
   "metadata": {},
   "outputs": [
    {
     "name": "stdout",
     "output_type": "stream",
     "text": [
      "Inflection point 18.8 deg C\n"
     ]
    }
   ],
   "source": [
    "#3. Find Inflection point with Ramer-Douglas-Peucker algorithm \n",
    "from rdp import rdp\n",
    "points = list(zip(df['Temperature'],df['Power(W)']))\n",
    "\n",
    "#find index of inflection point\n",
    "Inflection_point = df['Temperature'][df['Temperature']==rdp(points, 0.0002)[1][0]].index[-1]\n",
    "print ('Inflection point {0} deg C'.format(rdp(points, 0.0002)[1][0]))\n"
   ]
  },
  {
   "cell_type": "code",
   "execution_count": 6,
   "metadata": {},
   "outputs": [
    {
     "data": {
      "text/plain": [
       "(0, 0.0003)"
      ]
     },
     "execution_count": 6,
     "metadata": {},
     "output_type": "execute_result"
    },
    {
     "data": {
      "image/png": "[encoded data removed]",
      "text/plain": [
       "<matplotlib.figure.Figure at 0x6e33ed0>"
      ]
     },
     "metadata": {},
     "output_type": "display_data"
    }
   ],
   "source": [
    "#Visually check if inflection point was find correctly\n",
    "plt.scatter(df['Temperature'][:Inflection_point], df['Power(W)'][:Inflection_point], label = 'Signal before WAT')\n",
    "plt.scatter(df['Temperature'][Inflection_point:], df['Power(W)'][Inflection_point:],label = 'Signal after WAT', color='r')\n",
    "plt.xlabel('Tempature, degC')\n",
    "plt.ylabel('Power (W)')\n",
    "plt.legend()\n",
    "plt.ylim(0, 0.0003)"
   ]
  },
  {
   "cell_type": "code",
   "execution_count": 7,
   "metadata": {},
   "outputs": [
    {
     "name": "stdout",
     "output_type": "stream",
     "text": [
      "equations:  [ -2.83857930e-07   2.68204717e-04] [  8.99834327e-05  -1.37654737e-03]\n",
      "Cross point =  18.2209090469\n"
     ]
    },
    {
     "data": {
      "text/plain": [
       "(0, 0.0003)"
      ]
     },
     "execution_count": 7,
     "metadata": {},
     "output_type": "execute_result"
    },
    {
     "data": {
      "image/png": "[encoded data removed]",
      "text/plain": [
       "<matplotlib.figure.Figure at 0x7fcab30>"
      ]
     },
     "metadata": {},
     "output_type": "display_data"
    }
   ],
   "source": [
    "#4 Make trend lines\n",
    "#9200 - arbitrary number to cut irrelevant tail\n",
    "Eq1 = np.polyfit(df['Temperature'][:Inflection_point], df['Power(W)'][:Inflection_point], 1)\n",
    "Y1 = [i*Eq1[0]+Eq1[1] for i in df['Temperature']]\n",
    "Eq2 = np.polyfit(df['Temperature'][Inflection_point:9200], df['Power(W)'][Inflection_point:9200], 1)\n",
    "Y2 = [i*Eq2[0]+Eq2[1] for i in df['Temperature']]\n",
    "\n",
    "#5 Find cross points of trendlines\n",
    "print ('equations: ',Eq1,Eq2)\n",
    "a,b=list(Eq1)\n",
    "c,d=list(Eq2)\n",
    "x0=(d-b)/(a-c)\n",
    "print ('Cross point = ',x0)\n",
    "\n",
    "\n",
    "#Plot all together\n",
    "plt.plot(df['Temperature'],Y1,'-', label = 'Signal before WAT', color = 'black')\n",
    "plt.plot(df['Temperature'],Y2,'.-', label = 'Signal after WAT', color ='green')\n",
    "plt.scatter(x0,Eq1[0]*x0+Eq1[1], color = 'red', s = 200, \n",
    "            label = 'Intersection point')\n",
    "plt.legend()\n",
    "plt.ylim(0, 0.0003)\n",
    "\n"
   ]
  },
  {
   "cell_type": "markdown",
   "metadata": {},
   "source": [
    "### As result inflection point 18.8 degc with RDP altorith, and trend lines cross-point 18.2 degC "
   ]
  }
 ],
 "metadata": {
  "kernelspec": {
   "display_name": "Python 3",
   "language": "python",
   "name": "python3"
  },
  "language_info": {
   "codemirror_mode": {
    "name": "ipython",
    "version": 3
   },
   "file_extension": ".py",
   "mimetype": "text/x-python",
   "name": "python",
   "nbconvert_exporter": "python",
   "pygments_lexer": "ipython3",
   "version": "3.6.2"
  }
 },
 "nbformat": 4,
 "nbformat_minor": 2
}
